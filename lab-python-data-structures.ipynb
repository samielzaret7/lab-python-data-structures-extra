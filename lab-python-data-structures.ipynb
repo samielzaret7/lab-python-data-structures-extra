{
 "cells": [
  {
   "cell_type": "markdown",
   "metadata": {},
   "source": [
    "# Lab | Data Structures "
   ]
  },
  {
   "cell_type": "markdown",
   "metadata": {},
   "source": [
    "## Exercise 1: Working with Lists"
   ]
  },
  {
   "cell_type": "markdown",
   "metadata": {},
   "source": [
    "Imagine you are building a program for a teacher who wants to track the progress of their students throughout the semester. The teacher wants to input the grades of each student one by one, and get a summary of their performance. There are in total 5 students. You are tasked with building the program that will allow the teacher to do this easily.\n",
    "\n",
    "The program will prompt the teacher to enter the grades of each student. Once the teacher has entered all the grades, the program will calculate the total sum of the grades and display it on the screen. Then, the program will create a new list by selecting only the grades of the first, third, and fifth students entered by the teacher, and sort them in ascending order.\n",
    "\n",
    "Finally, the program will print out the new list, along with its length and the number of occurrences of the score 5 in the list. This will give the teacher a good overview of the performance of the selected students, and help them identify any potential issues early on."
   ]
  },
  {
   "cell_type": "markdown",
   "metadata": {},
   "source": [
    "*Hint:*\n",
    "- You can use the input() function to ask the user to enter their information.\n",
    "- Look for list methods to perform the tasks. \n",
    "- Remember, it is possible to get a part of the sequence using:\n",
    "\n",
    "    ```python\n",
    "    sequence[x:y:z]\n",
    "    ```\n",
    "    where x, y, z are integers.\n",
    "\n",
    "    The above returns a new sequence with the following characteristics:\n",
    "\n",
    "    - A sequence with the same type as the original (a slice of a list is a list, a slice of a tuple is a tuple, and a slice of a string is a string).\n",
    "    - A sequence with elements from `sequence [x]` to `sequence [y-1]` (does not include a sequence [y]). By skipping `z` elements each time, it can be omitted if ` z = 1`.\n"
   ]
  },
  {
   "cell_type": "markdown",
   "metadata": {},
   "source": [
    "*Recommended External Resources:*\n",
    "- *[Python Lists](https://www.w3schools.com/python/python_lists.asp)*\n",
    "- *[Python List Methods](https://www.w3schools.com/python/python_ref_list.asp)*\n",
    "- *[Python Built-in Functions](https://docs.python.org/3/library/functions.html)*\n"
   ]
  },
  {
   "cell_type": "code",
   "execution_count": 47,
   "metadata": {},
   "outputs": [
    {
     "name": "stdout",
     "output_type": "stream",
     "text": [
      "Please input the grade of student 1: 50\n",
      "Please input the grade of student 2: 85\n",
      "Please input the grade of student 3: 50\n",
      "Please input the grade of student 4: 78\n",
      "Please input the grade of student 5: 50\n",
      "[50.0, 85.0, 50.0, 78.0, 50.0]\n",
      "The total sum of the given grades is 313.0.\n",
      "The grades for the selected students are: 3\n",
      "The fifht's students grade is repeated 3 times.\n"
     ]
    }
   ],
   "source": [
    "student_grades = []\n",
    "for i in range(1,6):\n",
    "    grade = input(f'Please input the grade of student {i}: ')\n",
    "    while grade.replace(',','').replace('.','').isnumeric()!=True:\n",
    "        grade = input(f'''Only input numbers.\n",
    "                      Please input the grade of student {i}: ''')\n",
    "    student_grades.append(float(grade))\n",
    "print(student_grades)\n",
    "\n",
    "total_sum_of_grades = sum(student_grades)\n",
    "    \n",
    "print(f'The total sum of the given grades is {total_sum_of_grades}.')\n",
    "\n",
    "new_list = []\n",
    "new_list.append(student_grades[0:6:2])\n",
    "new_list[0].sort()\n",
    "print(f'The amount of selected students are: {len(new_list[0])}')\n",
    "x = new_list[0][2]\n",
    "print(f\"The fifht's students grade is repeated {new_list[0].count(x)} times.\")"
   ]
  },
  {
   "cell_type": "code",
   "execution_count": 44,
   "metadata": {},
   "outputs": [
    {
     "name": "stdout",
     "output_type": "stream",
     "text": [
      "[[50.0, 50.0, 50.0]]\n",
      "3\n"
     ]
    }
   ],
   "source": [
    "print(new_list)\n"
   ]
  },
  {
   "cell_type": "markdown",
   "metadata": {},
   "source": [
    "## Exercise 2: Tuples"
   ]
  },
  {
   "cell_type": "markdown",
   "metadata": {},
   "source": [
    "Imagine you're running a fruit stand and want to keep track of your inventory. Write a Python program that does the following:\n",
    "\n",
    "- Initializes a tuple with 5 different types of fruit.\n",
    "- Outputs the first and last elements of the tuple, so you can see the full range of fruits the store offers.\n",
    "- Replaces the second element of the tuple with a new fruit that the store has recently received, and prints the updated tuple so you can see the changes.\n",
    "- Concatenates a new tuple containing 2 additional fruits to the original tuple, so you can add them to the store inventory, and prints the resulting tuple to see the updated inventory.\n",
    "- Splits the resulting tuple into 2 tuples of 3 elements each (the first tuple contains the first 3 elements, and the second tuple contains the last 3 elements), so you can organize the inventory more effectively.\n",
    "- Combines the 2 tuples from the previous step with the original tuple into a new tuple, and prints the resulting tuple and its length, so you can see the final inventory after all the changes."
   ]
  },
  {
   "cell_type": "markdown",
   "metadata": {},
   "source": [
    "*Recommended External Resources: [Python Tuples Examples and Methods](https://www.w3schools.com/python/python_tuples.asp)*\n",
    "\n"
   ]
  },
  {
   "cell_type": "code",
   "execution_count": 60,
   "metadata": {},
   "outputs": [
    {
     "name": "stdout",
     "output_type": "stream",
     "text": [
      "The first fruit in our tuple is apple.\n",
      "The last fruit in our tuple is grape.\n",
      "We received a new fruit. Our updated tuple is ('apple', 'watermelon', 'cherry', 'orange', 'grape')\n",
      "('apple', 'watermelon', 'cherry', 'orange', 'grape', 'blueberry', 'raspberry')\n",
      "('apple', 'watermelon', 'cherry')\n",
      "('orange', 'grape', 'blueberry')\n",
      "('apple', 'watermelon', 'cherry', 'orange', 'grape', 'blueberry')\n",
      "6\n"
     ]
    }
   ],
   "source": [
    "fruits = (\"apple\", \"banana\", \"cherry\",\"orange\",\"grape\")\n",
    "print(f'The first fruit in our tuple is {fruits[0]}.')\n",
    "print(f'The last fruit in our tuple is {fruits[-1]}.')\n",
    "fruits = list(fruits)\n",
    "fruits[1] = \"watermelon\"\n",
    "fruits = tuple(fruits)\n",
    "print(f'We received a new fruit. Our updated tuple is {fruits}')\n",
    "more_fruits = (\"blueberry\",'raspberry')\n",
    "new_tuple = fruits + more_fruits\n",
    "print(new_tuple)\n",
    "tuple_1 = new_tuple[0:3]\n",
    "tuple_2 = new_tuple[-4:-1]\n",
    "print(tuple_1)\n",
    "print(tuple_2)\n",
    "final_tuple = tuple_1 + tuple_2\n",
    "print(final_tuple)\n",
    "print(len(final_tuple))"
   ]
  },
  {
   "cell_type": "markdown",
   "metadata": {},
   "source": [
    "## Exercise 3: Sets"
   ]
  },
  {
   "cell_type": "markdown",
   "metadata": {},
   "source": [
    "Imagine you are a data analyst working for a literature museum. Your manager has given you two poems to analyze, and she wants you to write a Python program to extract useful information from them.\n",
    "\n",
    "Your program should:\n",
    "\n",
    "- Create two sets, one for each poem, containing all unique words in both poems (ignoring case and punctuation).\n",
    "- Print the number of unique words in each set.\n",
    "- Identify and print the unique words present in the first poem but not in the second one.\n",
    "- Identify and print the unique words present in the second poem but not in the first one.\n",
    "- Identify and print the unique words present in both poems and print it in alphabetical order."
   ]
  },
  {
   "cell_type": "markdown",
   "metadata": {},
   "source": [
    "*Recommended External Resources:*\n",
    "- *[Python Sets](https://www.w3schools.com/python/python_sets.asp)* \n",
    "- *[Python Set Methods](https://www.w3schools.com/python/python_ref_set.asp)*\n",
    "- *[Python String Methods](https://www.w3schools.com/python/python_ref_string.asp)*\n"
   ]
  },
  {
   "cell_type": "code",
   "execution_count": 2,
   "metadata": {},
   "outputs": [],
   "source": [
    "poem = \"\"\"Some say the world will end in fire,\n",
    "Some say in ice.\n",
    "From what I’ve tasted of desire\n",
    "I hold with those who favor fire.\n",
    "But if it had to perish twice,\n",
    "I think I know enough of hate\n",
    "To say that for destruction ice\n",
    "Is also great\n",
    "And would suffice.\"\"\"\n",
    "\n",
    "new_poem = \"\"\"Some say life is but a dream,\n",
    "Some say it's a test.\n",
    "From what I've seen and what I deem,\n",
    "I side with those who see it as a quest.\n",
    "\n",
    "But if it had to end today,\n",
    "I think I know enough of love,\n",
    "To say that though it fades away,\n",
    "It's still what we are made of.\"\"\""
   ]
  },
  {
   "cell_type": "code",
   "execution_count": 3,
   "metadata": {
    "scrolled": true
   },
   "outputs": [
    {
     "name": "stdout",
     "output_type": "stream",
     "text": [
      "{'hate', 'say', 'From', 'end', 'with', 'to', 'what', 'great', 'in', 'And', 'enough', 'suffice', 'To', 'hold', 'those', 'desire', 'fire', 'world', 'Some', 'But', 'who', 'for', 'it', 'destruction', 'twice', 'that', 'of', 'think', 'tasted', 'also', 'would', 'perish', 'the', 'favor', 'know', 'ice', 'I’ve', 'I', 'had', 'if', 'will', 'Is'}\n",
      "42\n",
      "{'say', 'From', 'with', 'end', 'to', 'what', 'love', 'side', 'enough', 'as', 'test', 'To', 'those', 'though', 'But', 'Some', 'dream', 'who', 'still', 'but', 'we', \"it's\", 'are', 'it', \"It's\", \"I've\", 'seen', 'that', 'of', 'think', 'today', 'is', 'see', 'and', 'fades', 'know', 'away', 'made', 'a', 'I', 'deem', 'had', 'life', 'if', 'quest'}\n",
      "45\n"
     ]
    }
   ],
   "source": [
    "poem = poem.replace(',','').replace('.','').split()\n",
    "poem = set(poem)\n",
    "print(poem)\n",
    "print(len(poem))\n",
    "\n",
    "new_poem = new_poem.replace(',','').replace('.','').split()\n",
    "new_poem = set(new_poem)\n",
    "print(new_poem)\n",
    "print(len(new_poem))"
   ]
  },
  {
   "cell_type": "code",
   "execution_count": 21,
   "metadata": {},
   "outputs": [
    {
     "name": "stdout",
     "output_type": "stream",
     "text": [
      "{'hate', 'And', 'suffice', 'great', 'in', 'hold', 'desire', 'fire', 'world', 'for', 'destruction', 'twice', 'tasted', 'also', 'would', 'perish', 'the', 'favor', 'ice', 'I’ve', 'will', 'Is'}\n",
      "{'love', 'side', 'as', 'test', 'though', 'still', 'dream', 'but', 'we', \"it's\", 'are', \"It's\", \"I've\", 'seen', 'today', 'is', 'see', 'and', 'away', 'made', 'a', 'deem', 'life', 'fades', 'quest'}\n",
      "['but', 'end', 'enough', 'from', 'had', 'i', 'if', 'it', 'know', 'of', 'say', 'some', 'that', 'think', 'those', 'to', 'to', 'what', 'who', 'with']\n"
     ]
    }
   ],
   "source": [
    "print(poem.difference(new_poem))\n",
    "print(new_poem.difference(poem))\n",
    "intersection = list(poem.intersection(new_poem))\n",
    "lower_intersection = []\n",
    "for word in intersection:\n",
    "    lower_case = word.lower()\n",
    "    lower_intersection.append(lower_case)\n",
    "sorted_list = sorted(lower_intersection)\n",
    "print(sorted_list)"
   ]
  },
  {
   "cell_type": "markdown",
   "metadata": {},
   "source": [
    "## Exercise 4: Dictionaries"
   ]
  },
  {
   "cell_type": "markdown",
   "metadata": {},
   "source": [
    "Consider the following dictionary of students with their scores in different subjects. One of the students, Bob, has complained about his score in Philosophy and, after reviewing it, the teacher has decided to update his score to 100. Write a Python program that updates Bob's score in Philosophy to 100 in the dictionary."
   ]
  },
  {
   "cell_type": "markdown",
   "metadata": {},
   "source": [
    "*Recommended External Resources: [Python Dictionary Examples and Methods](https://www.w3schools.com/python/python_dictionaries.asp)*\n"
   ]
  },
  {
   "cell_type": "code",
   "execution_count": 23,
   "metadata": {},
   "outputs": [],
   "source": [
    "grades = {'Alice': {'Physics': 75, 'Math': 85, 'Chemistry': 60, 'Philosophy': 90}, 'Bob': {'Physics': 75, 'Math': 85, 'Chemistry': 60, 'Philosophy': 90}}"
   ]
  },
  {
   "cell_type": "code",
   "execution_count": 25,
   "metadata": {},
   "outputs": [
    {
     "name": "stdout",
     "output_type": "stream",
     "text": [
      "{'Alice': {'Physics': 75, 'Math': 85, 'Chemistry': 60, 'Philosophy': 90}, 'Bob': {'Physics': 75, 'Math': 85, 'Chemistry': 60, 'Philosophy': 100}}\n"
     ]
    }
   ],
   "source": [
    "grades['Bob']['Philosophy']=100\n",
    "print(grades)"
   ]
  },
  {
   "cell_type": "markdown",
   "metadata": {},
   "source": [
    "## Bonus"
   ]
  },
  {
   "cell_type": "markdown",
   "metadata": {},
   "source": [
    "1. Below are the two lists. Write a Python program to convert them into a dictionary in a way that item from list1 is the key and item from list2 is the value."
   ]
  },
  {
   "cell_type": "markdown",
   "metadata": {},
   "source": [
    "*Hint: Use the zip() function. This function takes two or more iterables (like list, dict, string), aggregates them in a tuple, and returns it. Afterwards, you can use a function that turns a tuple into a dictionary.*"
   ]
  },
  {
   "cell_type": "markdown",
   "metadata": {},
   "source": [
    "*Recommended External Resources: [Python Zip Function](https://www.w3schools.com/python/ref_func_zip.asp)*\n"
   ]
  },
  {
   "cell_type": "code",
   "execution_count": 30,
   "metadata": {},
   "outputs": [],
   "source": [
    "keys = ['Physics', 'Math', 'Chemistry', 'Philosophy']\n",
    "values = [75, 85, 60,90]\n",
    "\n",
    "zip_function = zip(keys,values)"
   ]
  },
  {
   "cell_type": "code",
   "execution_count": 32,
   "metadata": {},
   "outputs": [
    {
     "data": {
      "text/plain": [
       "{'Physics': 75, 'Math': 85, 'Chemistry': 60, 'Philosophy': 90}"
      ]
     },
     "execution_count": 32,
     "metadata": {},
     "output_type": "execute_result"
    }
   ],
   "source": [
    "dictionary = dict(zip_function)\n",
    "dictionary"
   ]
  },
  {
   "cell_type": "markdown",
   "metadata": {},
   "source": [
    "2. Get the subject with the minimum score from the previous dictionary."
   ]
  },
  {
   "cell_type": "markdown",
   "metadata": {},
   "source": [
    "*Hint: Use the built-in function min(). Read about the parameter key.*"
   ]
  },
  {
   "cell_type": "markdown",
   "metadata": {},
   "source": [
    "\n",
    "*Recommended External Resources:*\n",
    "- *[Python Min Function Official Documentation](https://docs.python.org/3.8/library/functions.html#min)*\n",
    "- *[How to use key function in max and min in Python](https://medium.com/analytics-vidhya/how-to-use-key-function-in-max-and-min-in-python-1fdbd661c59c)*"
   ]
  },
  {
   "cell_type": "code",
   "execution_count": 34,
   "metadata": {},
   "outputs": [
    {
     "data": {
      "text/plain": [
       "'Chemistry'"
      ]
     },
     "execution_count": 34,
     "metadata": {},
     "output_type": "execute_result"
    }
   ],
   "source": [
    "min(dictionary.keys())"
   ]
  },
  {
   "cell_type": "code",
   "execution_count": null,
   "metadata": {},
   "outputs": [